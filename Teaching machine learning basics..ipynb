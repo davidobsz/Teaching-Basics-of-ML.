{
 "cells": [
  {
   "cell_type": "markdown",
   "id": "c64015b7",
   "metadata": {},
   "source": [
    "# ABSOLUTE BASICS TO MACHINE LEARNING WITH PYTHON SUMMARY AND POINTER TO REFERENCES."
   ]
  },
  {
   "cell_type": "markdown",
   "id": "09a6d01c",
   "metadata": {},
   "source": [
    "## This course tries to summarise the key basic parts of machine learning, please read all comments."
   ]
  },
  {
   "cell_type": "markdown",
   "id": "644a4811",
   "metadata": {},
   "source": [
    "#### I specifically include documentation in this tutorial to familiarise you with looking at examples online and adapting your code to match what you want to do from an online example."
   ]
  },
  {
   "cell_type": "markdown",
   "id": "e3bfdc01",
   "metadata": {},
   "source": [
    "### Press Kernel ---> Restart and run all"
   ]
  },
  {
   "cell_type": "markdown",
   "id": "9de1d1a8",
   "metadata": {},
   "source": [
    "# How to navigate around a Dataframe and what is a DataFrame??"
   ]
  },
  {
   "cell_type": "code",
   "execution_count": 1,
   "id": "16fdc0fc",
   "metadata": {},
   "outputs": [],
   "source": [
    "import pandas as pd\n",
    "import numpy as np\n",
    "import matplotlib.pyplot as plt\n",
    "# Imports needed"
   ]
  },
  {
   "cell_type": "code",
   "execution_count": 2,
   "id": "8210da21",
   "metadata": {
    "scrolled": false
   },
   "outputs": [
    {
     "data": {
      "text/html": [
       "<div>\n",
       "<style scoped>\n",
       "    .dataframe tbody tr th:only-of-type {\n",
       "        vertical-align: middle;\n",
       "    }\n",
       "\n",
       "    .dataframe tbody tr th {\n",
       "        vertical-align: top;\n",
       "    }\n",
       "\n",
       "    .dataframe thead th {\n",
       "        text-align: right;\n",
       "    }\n",
       "</style>\n",
       "<table border=\"1\" class=\"dataframe\">\n",
       "  <thead>\n",
       "    <tr style=\"text-align: right;\">\n",
       "      <th></th>\n",
       "      <th>column1</th>\n",
       "      <th>column2</th>\n",
       "    </tr>\n",
       "  </thead>\n",
       "  <tbody>\n",
       "    <tr>\n",
       "      <th>0</th>\n",
       "      <td>1</td>\n",
       "      <td>2</td>\n",
       "    </tr>\n",
       "  </tbody>\n",
       "</table>\n",
       "</div>"
      ],
      "text/plain": [
       "   column1  column2\n",
       "0        1        2"
      ]
     },
     "execution_count": 2,
     "metadata": {},
     "output_type": "execute_result"
    }
   ],
   "source": [
    "# How to create a DataFrame:\n",
    "# A DataFrame is just a data structure that \n",
    "# organizes data into a 2-dimensional table of rows and columns.\n",
    "dictionary = {\"column1\":[1],\"column2\":[2]}\n",
    "# DataFrames can be made from Dictionaries.\n",
    "\n",
    "new_df = pd.DataFrame(data=dictionary)\n",
    "# You can create a DataFrame with pandas function \n",
    "#pandas.DataFrame(dictionary)\n",
    "\n",
    "new_df # You dont have to print() if the variable is the last thing in the cell."
   ]
  },
  {
   "cell_type": "code",
   "execution_count": 3,
   "id": "6cd2f864",
   "metadata": {},
   "outputs": [
    {
     "data": {
      "text/html": [
       "<div>\n",
       "<style scoped>\n",
       "    .dataframe tbody tr th:only-of-type {\n",
       "        vertical-align: middle;\n",
       "    }\n",
       "\n",
       "    .dataframe tbody tr th {\n",
       "        vertical-align: top;\n",
       "    }\n",
       "\n",
       "    .dataframe thead th {\n",
       "        text-align: right;\n",
       "    }\n",
       "</style>\n",
       "<table border=\"1\" class=\"dataframe\">\n",
       "  <thead>\n",
       "    <tr style=\"text-align: right;\">\n",
       "      <th></th>\n",
       "      <th>column1</th>\n",
       "      <th>column2</th>\n",
       "    </tr>\n",
       "  </thead>\n",
       "  <tbody>\n",
       "    <tr>\n",
       "      <th>0</th>\n",
       "      <td>1</td>\n",
       "      <td>2</td>\n",
       "    </tr>\n",
       "    <tr>\n",
       "      <th>1</th>\n",
       "      <td>3</td>\n",
       "      <td>4</td>\n",
       "    </tr>\n",
       "  </tbody>\n",
       "</table>\n",
       "</div>"
      ],
      "text/plain": [
       "   column1  column2\n",
       "0        1        2\n",
       "1        3        4"
      ]
     },
     "execution_count": 3,
     "metadata": {},
     "output_type": "execute_result"
    }
   ],
   "source": [
    "# How to append a DataFrame\n",
    "c1=3\n",
    "c2=4\n",
    "\n",
    "new_row = {\n",
    "    \"column1\":c1,\n",
    "    \"column2\":c2\n",
    "    }\n",
    "# Another way to style dictionaries.\n",
    "\n",
    "\n",
    "new_df = new_df.append(new_row, ignore_index=True)\n",
    "new_df\n",
    "# If you keep running this cell, you will see how c1,c2 are constantly being added\n",
    "# this is because you are appending the same values constantly to new_df."
   ]
  },
  {
   "cell_type": "code",
   "execution_count": 4,
   "id": "3d9f19c8",
   "metadata": {},
   "outputs": [],
   "source": [
    "df = pd.read_csv('Documents/teachingml.csv')\n",
    "# Reads dataset from csv (in this case excel file saved in csv format)\n",
    "# and stores as DataFrame.\n",
    "\n",
    "# **A DataFrame is a data structure that \n",
    "# organizes data into a 2-dimensional table of rows and columns.** - IMPORTANT\n",
    "\n",
    "# It is just one of the ways used in python to be able to do whatever\n",
    "# with data."
   ]
  },
  {
   "cell_type": "code",
   "execution_count": 5,
   "id": "03e9429e",
   "metadata": {},
   "outputs": [
    {
     "data": {
      "text/html": [
       "<div>\n",
       "<style scoped>\n",
       "    .dataframe tbody tr th:only-of-type {\n",
       "        vertical-align: middle;\n",
       "    }\n",
       "\n",
       "    .dataframe tbody tr th {\n",
       "        vertical-align: top;\n",
       "    }\n",
       "\n",
       "    .dataframe thead th {\n",
       "        text-align: right;\n",
       "    }\n",
       "</style>\n",
       "<table border=\"1\" class=\"dataframe\">\n",
       "  <thead>\n",
       "    <tr style=\"text-align: right;\">\n",
       "      <th></th>\n",
       "      <th>Cholesterol</th>\n",
       "      <th>Max heart rate</th>\n",
       "      <th>Resting blood pressure</th>\n",
       "      <th>Chest pain type</th>\n",
       "      <th>Age</th>\n",
       "      <th>class</th>\n",
       "    </tr>\n",
       "  </thead>\n",
       "  <tbody>\n",
       "    <tr>\n",
       "      <th>0</th>\n",
       "      <td>260</td>\n",
       "      <td>112</td>\n",
       "      <td>140</td>\n",
       "      <td>3</td>\n",
       "      <td>58</td>\n",
       "      <td>3</td>\n",
       "    </tr>\n",
       "    <tr>\n",
       "      <th>1</th>\n",
       "      <td>250</td>\n",
       "      <td>115</td>\n",
       "      <td>135</td>\n",
       "      <td>2</td>\n",
       "      <td>64</td>\n",
       "      <td>2</td>\n",
       "    </tr>\n",
       "    <tr>\n",
       "      <th>2</th>\n",
       "      <td>240</td>\n",
       "      <td>119</td>\n",
       "      <td>132</td>\n",
       "      <td>1</td>\n",
       "      <td>56</td>\n",
       "      <td>2</td>\n",
       "    </tr>\n",
       "    <tr>\n",
       "      <th>3</th>\n",
       "      <td>290</td>\n",
       "      <td>110</td>\n",
       "      <td>145</td>\n",
       "      <td>3</td>\n",
       "      <td>75</td>\n",
       "      <td>4</td>\n",
       "    </tr>\n",
       "    <tr>\n",
       "      <th>4</th>\n",
       "      <td>194</td>\n",
       "      <td>130</td>\n",
       "      <td>123</td>\n",
       "      <td>0</td>\n",
       "      <td>45</td>\n",
       "      <td>0</td>\n",
       "    </tr>\n",
       "  </tbody>\n",
       "</table>\n",
       "</div>"
      ],
      "text/plain": [
       "   Cholesterol  Max heart rate  Resting blood pressure  Chest pain type  Age  \\\n",
       "0          260             112                     140                3   58   \n",
       "1          250             115                     135                2   64   \n",
       "2          240             119                     132                1   56   \n",
       "3          290             110                     145                3   75   \n",
       "4          194             130                     123                0   45   \n",
       "\n",
       "   class  \n",
       "0      3  \n",
       "1      2  \n",
       "2      2  \n",
       "3      4  \n",
       "4      0  "
      ]
     },
     "execution_count": 5,
     "metadata": {},
     "output_type": "execute_result"
    }
   ],
   "source": [
    "df.head()\n",
    "# this prints out the first 5 instances of the DataFrame"
   ]
  },
  {
   "cell_type": "code",
   "execution_count": 6,
   "id": "54055ada",
   "metadata": {},
   "outputs": [
    {
     "data": {
      "text/plain": [
       "0    260\n",
       "1    250\n",
       "2    240\n",
       "3    290\n",
       "4    194\n",
       "Name: Cholesterol, dtype: int64"
      ]
     },
     "execution_count": 6,
     "metadata": {},
     "output_type": "execute_result"
    }
   ],
   "source": [
    "df[\"Cholesterol\"].head() # I put .head() so it does clutter the screen. .head() limits to first 5\n",
    "# .tail() will show you last 5\n",
    "# You can put in an int of how many values you want to see by doing...\n",
    "# df.head(20) #this will show you the first 20 instances\n",
    "\n",
    "\n",
    "# This will show you each value in the feature Cholesterol along \n",
    "# with the index."
   ]
  },
  {
   "cell_type": "code",
   "execution_count": 7,
   "id": "63f18786",
   "metadata": {},
   "outputs": [
    {
     "data": {
      "text/plain": [
       "[250, 240, 290]"
      ]
     },
     "execution_count": 7,
     "metadata": {},
     "output_type": "execute_result"
    }
   ],
   "source": [
    "x = [x for x in df[\"Cholesterol\"]]\n",
    "# This will create an array \"x\" with all values in feature \"Cholesterol\".\n",
    "x[:5] # I did x[:5] to only show the first 5 values in the array\n",
    "# This is known as slicing.\n",
    "\n",
    "x[1:4] # Includes index 1, not including index 4\n"
   ]
  },
  {
   "cell_type": "code",
   "execution_count": 8,
   "id": "cf4c4acb",
   "metadata": {},
   "outputs": [
    {
     "name": "stdout",
     "output_type": "stream",
     "text": [
      "label: Cholesterol\n",
      "0    260\n",
      "1    250\n",
      "Name: Cholesterol, dtype: int64\n",
      "label: Max heart rate\n",
      "0    112\n",
      "1    115\n",
      "Name: Max heart rate, dtype: int64\n",
      "label: Resting blood pressure\n",
      "0    140\n",
      "1    135\n",
      "Name: Resting blood pressure, dtype: int64\n",
      "label: Chest pain type\n",
      "0    3\n",
      "1    2\n",
      "Name: Chest pain type, dtype: int64\n",
      "label: Age\n",
      "0    58\n",
      "1    64\n",
      "Name: Age, dtype: int64\n",
      "label: class\n",
      "0    3\n",
      "1    2\n",
      "Name: class, dtype: int64\n"
     ]
    }
   ],
   "source": [
    "for label, content in df.head(2).items():\n",
    "    print(f'label: {label}') \n",
    "    print(f'{content}', sep='\\n') \n",
    "# Shows you the label / feature name, and the values attributed to each index.\n",
    "    \n",
    "# Iterates over the DataFrame columns, \n",
    "# returning a tuple with the column name and the content as a Series.\n",
    "# https://pandas.pydata.org/docs/reference/api/pandas.DataFrame.items.html#pandas.DataFrame.items"
   ]
  },
  {
   "cell_type": "code",
   "execution_count": 9,
   "id": "81c63617",
   "metadata": {
    "scrolled": true
   },
   "outputs": [
    {
     "name": "stdout",
     "output_type": "stream",
     "text": [
      "   Cholesterol  Max heart rate  Resting blood pressure  Chest pain type  Age  \\\n",
      "0          260             112                     140                3   58   \n",
      "1          250             115                     135                2   64   \n",
      "2          240             119                     132                1   56   \n",
      "\n",
      "   class  \n",
      "0      3  \n",
      "1      2  \n",
      "2      2  \n"
     ]
    },
    {
     "data": {
      "text/html": [
       "<div>\n",
       "<style scoped>\n",
       "    .dataframe tbody tr th:only-of-type {\n",
       "        vertical-align: middle;\n",
       "    }\n",
       "\n",
       "    .dataframe tbody tr th {\n",
       "        vertical-align: top;\n",
       "    }\n",
       "\n",
       "    .dataframe thead th {\n",
       "        text-align: right;\n",
       "    }\n",
       "</style>\n",
       "<table border=\"1\" class=\"dataframe\">\n",
       "  <thead>\n",
       "    <tr style=\"text-align: right;\">\n",
       "      <th></th>\n",
       "      <th>Cholesterol</th>\n",
       "      <th>Max heart rate</th>\n",
       "      <th>Resting blood pressure</th>\n",
       "      <th>Chest pain type</th>\n",
       "      <th>Age</th>\n",
       "      <th>class</th>\n",
       "    </tr>\n",
       "  </thead>\n",
       "  <tbody>\n",
       "    <tr>\n",
       "      <th>3</th>\n",
       "      <td>290</td>\n",
       "      <td>110</td>\n",
       "      <td>145</td>\n",
       "      <td>3</td>\n",
       "      <td>75</td>\n",
       "      <td>4</td>\n",
       "    </tr>\n",
       "  </tbody>\n",
       "</table>\n",
       "</div>"
      ],
      "text/plain": [
       "   Cholesterol  Max heart rate  Resting blood pressure  Chest pain type  Age  \\\n",
       "3          290             110                     145                3   75   \n",
       "\n",
       "   class  \n",
       "3      4  "
      ]
     },
     "execution_count": 9,
     "metadata": {},
     "output_type": "execute_result"
    }
   ],
   "source": [
    "dfiloc = df.iloc[:3]\n",
    "print(dfiloc.head())\n",
    "# Creates a DataFrame with only the first 3 indexed values.\n",
    "    \n",
    "    \n",
    "dfiloc2 = df.iloc[[3]] # Grabs that specific index with all feature values.\n",
    "dfiloc2\n",
    "\n",
    "# Documentation for more examples\n",
    "# https://pandas.pydata.org/docs/reference/api/pandas.DataFrame.iloc.html#pandas.DataFrame.iloc"
   ]
  },
  {
   "cell_type": "code",
   "execution_count": 10,
   "id": "3db5c3bc",
   "metadata": {},
   "outputs": [
    {
     "data": {
      "text/html": [
       "<div>\n",
       "<style scoped>\n",
       "    .dataframe tbody tr th:only-of-type {\n",
       "        vertical-align: middle;\n",
       "    }\n",
       "\n",
       "    .dataframe tbody tr th {\n",
       "        vertical-align: top;\n",
       "    }\n",
       "\n",
       "    .dataframe thead th {\n",
       "        text-align: right;\n",
       "    }\n",
       "</style>\n",
       "<table border=\"1\" class=\"dataframe\">\n",
       "  <thead>\n",
       "    <tr style=\"text-align: right;\">\n",
       "      <th></th>\n",
       "      <th>Age</th>\n",
       "      <th>class</th>\n",
       "    </tr>\n",
       "  </thead>\n",
       "  <tbody>\n",
       "    <tr>\n",
       "      <th>0</th>\n",
       "      <td>58</td>\n",
       "      <td>3</td>\n",
       "    </tr>\n",
       "    <tr>\n",
       "      <th>1</th>\n",
       "      <td>64</td>\n",
       "      <td>2</td>\n",
       "    </tr>\n",
       "    <tr>\n",
       "      <th>2</th>\n",
       "      <td>56</td>\n",
       "      <td>2</td>\n",
       "    </tr>\n",
       "    <tr>\n",
       "      <th>3</th>\n",
       "      <td>75</td>\n",
       "      <td>4</td>\n",
       "    </tr>\n",
       "    <tr>\n",
       "      <th>4</th>\n",
       "      <td>45</td>\n",
       "      <td>0</td>\n",
       "    </tr>\n",
       "  </tbody>\n",
       "</table>\n",
       "</div>"
      ],
      "text/plain": [
       "   Age  class\n",
       "0   58      3\n",
       "1   64      2\n",
       "2   56      2\n",
       "3   75      4\n",
       "4   45      0"
      ]
     },
     "execution_count": 10,
     "metadata": {},
     "output_type": "execute_result"
    }
   ],
   "source": [
    "dfloc = df.loc[:, [\"Age\", \"class\"]]\n",
    "dfloc.head()\n",
    "# .loc allows you to specifically create a new DataFrame with\n",
    "# specific features.\n",
    "\n",
    "# Documentation for more examples:\n",
    "# https://pandas.pydata.org/docs/reference/api/pandas.DataFrame.loc.html#pandas.DataFrame.loc"
   ]
  },
  {
   "cell_type": "code",
   "execution_count": 11,
   "id": "c8bb73be",
   "metadata": {},
   "outputs": [
    {
     "data": {
      "text/plain": [
       "9953"
      ]
     },
     "execution_count": 11,
     "metadata": {},
     "output_type": "execute_result"
    }
   ],
   "source": [
    "df[\"Cholesterol\"].sum()\n",
    "# This will give you the number of ALL values in feature \"Cholesterol\"\n",
    "# added together."
   ]
  },
  {
   "cell_type": "code",
   "execution_count": 12,
   "id": "282ab076",
   "metadata": {},
   "outputs": [
    {
     "data": {
      "text/plain": [
       "221.17777777777778"
      ]
     },
     "execution_count": 12,
     "metadata": {},
     "output_type": "execute_result"
    }
   ],
   "source": [
    "df[\"Cholesterol\"].mean()\n",
    "# This will give you the mean value of feature \"Cholesterol\""
   ]
  },
  {
   "cell_type": "code",
   "execution_count": 13,
   "id": "2d536908",
   "metadata": {},
   "outputs": [
    {
     "data": {
      "text/html": [
       "<div>\n",
       "<style scoped>\n",
       "    .dataframe tbody tr th:only-of-type {\n",
       "        vertical-align: middle;\n",
       "    }\n",
       "\n",
       "    .dataframe tbody tr th {\n",
       "        vertical-align: top;\n",
       "    }\n",
       "\n",
       "    .dataframe thead th {\n",
       "        text-align: right;\n",
       "    }\n",
       "</style>\n",
       "<table border=\"1\" class=\"dataframe\">\n",
       "  <thead>\n",
       "    <tr style=\"text-align: right;\">\n",
       "      <th></th>\n",
       "      <th>Cholesterol</th>\n",
       "      <th>Max heart rate</th>\n",
       "      <th>Resting blood pressure</th>\n",
       "      <th>Chest pain type</th>\n",
       "      <th>Age</th>\n",
       "    </tr>\n",
       "    <tr>\n",
       "      <th>class</th>\n",
       "      <th></th>\n",
       "      <th></th>\n",
       "      <th></th>\n",
       "      <th></th>\n",
       "      <th></th>\n",
       "    </tr>\n",
       "  </thead>\n",
       "  <tbody>\n",
       "    <tr>\n",
       "      <th>0</th>\n",
       "      <td>151.625000</td>\n",
       "      <td>123.937500</td>\n",
       "      <td>120.000000</td>\n",
       "      <td>0.312500</td>\n",
       "      <td>46.812500</td>\n",
       "    </tr>\n",
       "    <tr>\n",
       "      <th>1</th>\n",
       "      <td>228.500000</td>\n",
       "      <td>132.250000</td>\n",
       "      <td>129.250000</td>\n",
       "      <td>1.750000</td>\n",
       "      <td>51.000000</td>\n",
       "    </tr>\n",
       "    <tr>\n",
       "      <th>2</th>\n",
       "      <td>239.222222</td>\n",
       "      <td>118.888889</td>\n",
       "      <td>131.777778</td>\n",
       "      <td>1.333333</td>\n",
       "      <td>57.111111</td>\n",
       "    </tr>\n",
       "    <tr>\n",
       "      <th>3</th>\n",
       "      <td>260.000000</td>\n",
       "      <td>112.000000</td>\n",
       "      <td>140.000000</td>\n",
       "      <td>3.000000</td>\n",
       "      <td>58.000000</td>\n",
       "    </tr>\n",
       "    <tr>\n",
       "      <th>4</th>\n",
       "      <td>290.000000</td>\n",
       "      <td>110.000000</td>\n",
       "      <td>145.000000</td>\n",
       "      <td>3.000000</td>\n",
       "      <td>75.000000</td>\n",
       "    </tr>\n",
       "  </tbody>\n",
       "</table>\n",
       "</div>"
      ],
      "text/plain": [
       "       Cholesterol  Max heart rate  Resting blood pressure  Chest pain type  \\\n",
       "class                                                                         \n",
       "0       151.625000      123.937500              120.000000         0.312500   \n",
       "1       228.500000      132.250000              129.250000         1.750000   \n",
       "2       239.222222      118.888889              131.777778         1.333333   \n",
       "3       260.000000      112.000000              140.000000         3.000000   \n",
       "4       290.000000      110.000000              145.000000         3.000000   \n",
       "\n",
       "             Age  \n",
       "class             \n",
       "0      46.812500  \n",
       "1      51.000000  \n",
       "2      57.111111  \n",
       "3      58.000000  \n",
       "4      75.000000  "
      ]
     },
     "execution_count": 13,
     "metadata": {},
     "output_type": "execute_result"
    }
   ],
   "source": [
    "df.groupby([\"class\"]).mean()\n",
    "# This is particularly usefull for getting the mean or sum of features\n",
    "# to get the sum you can replace .mean() with .sum()"
   ]
  },
  {
   "cell_type": "code",
   "execution_count": 14,
   "id": "542cdd4e",
   "metadata": {
    "scrolled": true
   },
   "outputs": [
    {
     "data": {
      "text/plain": [
       "Cholesterol               0\n",
       "Max heart rate            0\n",
       "Resting blood pressure    0\n",
       "Chest pain type           0\n",
       "Age                       0\n",
       "class                     0\n",
       "dtype: int64"
      ]
     },
     "execution_count": 14,
     "metadata": {},
     "output_type": "execute_result"
    }
   ],
   "source": [
    "df.isnull().sum()\n",
    "# This will tell you how many null values are in your dataset per feature"
   ]
  },
  {
   "cell_type": "code",
   "execution_count": 15,
   "id": "c7006ab9",
   "metadata": {},
   "outputs": [
    {
     "name": "stdout",
     "output_type": "stream",
     "text": [
      "0 260\n",
      "3 290\n",
      "18 290\n",
      "19 290\n",
      "20 290\n",
      "21 290\n",
      "22 290\n",
      "23 290\n",
      "24 290\n",
      "25 290\n",
      "26 290\n",
      "33 260\n",
      "34 260\n",
      "35 260\n",
      "36 260\n",
      "37 260\n"
     ]
    }
   ],
   "source": [
    "for x in range(len(df)):\n",
    "    if df[\"Cholesterol\"][x] > 250:\n",
    "        print(x, df[\"Cholesterol\"][x])\n",
    "# This is just an example of how you could match cholesterol above 250 by index.\n",
    "# This is just an example if you are not a strong beginner in python you can catch how \n",
    "# the syntax works / what is possible."
   ]
  },
  {
   "cell_type": "code",
   "execution_count": 16,
   "id": "9bae2116",
   "metadata": {
    "scrolled": true
   },
   "outputs": [
    {
     "name": "stdout",
     "output_type": "stream",
     "text": [
      "1 64\n"
     ]
    }
   ],
   "source": [
    "for x in range(len(df)):\n",
    "    if df[\"Age\"][x] >= 60 and df[\"Age\"][x] <= 70:\n",
    "        print(x, df[\"Age\"][x])\n",
    "# Ages between 60 and 70 matches with index.\n",
    "# calculations could be very useful for beginners for example to append ages above 50 to an array. \n",
    "# AN EXAMPLE WILL BE PROVIDED IN THE CELL BELOW."
   ]
  },
  {
   "cell_type": "code",
   "execution_count": 17,
   "id": "25f61f3b",
   "metadata": {},
   "outputs": [
    {
     "data": {
      "text/plain": [
       "<BarContainer object of 2 artists>"
      ]
     },
     "execution_count": 17,
     "metadata": {},
     "output_type": "execute_result"
    },
    {
     "data": {
      "image/png": "[encoded data removed]",
      "text/plain": [
       "<Figure size 288x360 with 1 Axes>"
      ]
     },
     "metadata": {
      "needs_background": "light"
     },
     "output_type": "display_data"
    }
   ],
   "source": [
    "# One way of doing this code below would be easier with grouping\n",
    "#but since this is a beginner tutorial i will go the simpler way about it.\n",
    "\n",
    "# I will create a graph (plotting tutorial in section below) that will show heart disease vs no heart disease.\n",
    "# Since 0 is no heart disease and 1-4 represents heart disease we will need to grab these values.\n",
    "\n",
    "\n",
    "no_heart_disease = []\n",
    "heart_disease = []\n",
    "labels = [\"no presence\", \"Heart disease present\"]\n",
    "# three arrays.\n",
    "\n",
    "for x in range(len(df)):\n",
    "    if df[\"class\"][x] == 0:\n",
    "        no_heart_disease.append(x)\n",
    "    else:\n",
    "        heart_disease.append(x)\n",
    "# This appends to one of two empty arrays.\n",
    "        \n",
    "        \n",
    "no_heart_disease = len(no_heart_disease)\n",
    "heart_disease = len(heart_disease)        \n",
    "# convert the arrays to a number (how many values were in the array) .\n",
    "yaxis = [no_heart_disease,heart_disease]\n",
    "\n",
    "\n",
    "plt.figure(figsize=(4, 5))\n",
    "plt.xlabel(\"Heart disease presence\")\n",
    "plt.ylabel(\"Frequency\")\n",
    "plt.title(\"Presence of heart disease in data\")\n",
    "plt.bar(labels,yaxis)\n",
    "# Plot the graph. Don't worry if you dont know how to do this,\n",
    "# Just look at this example and read documentation below... also go to next section once finished this one."
   ]
  },
  {
   "cell_type": "markdown",
   "id": "fc13b190",
   "metadata": {},
   "source": [
    "#### Task 1: Group and find the mean for max heart rate and age"
   ]
  },
  {
   "cell_type": "code",
   "execution_count": null,
   "id": "d99a2703",
   "metadata": {},
   "outputs": [],
   "source": []
  },
  {
   "cell_type": "markdown",
   "id": "f7b89c12",
   "metadata": {},
   "source": [
    "#### Task 2: Find how many people have cholesterol between 200-225. (Remember to use len() on the array of numbers to get a single number of how many people are inbetween that value ^)"
   ]
  },
  {
   "cell_type": "code",
   "execution_count": null,
   "id": "ed9fc9ca",
   "metadata": {},
   "outputs": [],
   "source": []
  },
  {
   "cell_type": "markdown",
   "id": "9dffb59e",
   "metadata": {},
   "source": [
    "# Shape + Descriptive statistics of Dataframe & Basic plotting."
   ]
  },
  {
   "cell_type": "code",
   "execution_count": 18,
   "id": "d6371839",
   "metadata": {},
   "outputs": [],
   "source": [
    "import pandas as pd\n",
    "import numpy as np\n",
    "import matplotlib.pyplot as plt\n",
    "# Imports needed"
   ]
  },
  {
   "cell_type": "code",
   "execution_count": 19,
   "id": "57992239",
   "metadata": {},
   "outputs": [],
   "source": [
    "df = pd.read_csv('Documents/teachingml.csv')\n",
    "#Reads dataset from csv (in this case excel file saved in csv format)\n",
    "# and stores as DataFrame."
   ]
  },
  {
   "cell_type": "code",
   "execution_count": 20,
   "id": "335f4374",
   "metadata": {},
   "outputs": [
    {
     "name": "stdout",
     "output_type": "stream",
     "text": [
      "(45, 6)\n"
     ]
    }
   ],
   "source": [
    "print(df.shape)\n",
    "# prints the shape of the data \n",
    "#(number of instances and features)"
   ]
  },
  {
   "cell_type": "code",
   "execution_count": 21,
   "id": "b9eba90f",
   "metadata": {},
   "outputs": [
    {
     "data": {
      "text/html": [
       "<div>\n",
       "<style scoped>\n",
       "    .dataframe tbody tr th:only-of-type {\n",
       "        vertical-align: middle;\n",
       "    }\n",
       "\n",
       "    .dataframe tbody tr th {\n",
       "        vertical-align: top;\n",
       "    }\n",
       "\n",
       "    .dataframe thead th {\n",
       "        text-align: right;\n",
       "    }\n",
       "</style>\n",
       "<table border=\"1\" class=\"dataframe\">\n",
       "  <thead>\n",
       "    <tr style=\"text-align: right;\">\n",
       "      <th></th>\n",
       "      <th>Cholesterol</th>\n",
       "      <th>Max heart rate</th>\n",
       "      <th>Resting blood pressure</th>\n",
       "      <th>Chest pain type</th>\n",
       "      <th>Age</th>\n",
       "      <th>class</th>\n",
       "    </tr>\n",
       "  </thead>\n",
       "  <tbody>\n",
       "    <tr>\n",
       "      <th>count</th>\n",
       "      <td>45.000000</td>\n",
       "      <td>45.000000</td>\n",
       "      <td>45.00000</td>\n",
       "      <td>45.000000</td>\n",
       "      <td>45.000000</td>\n",
       "      <td>45.000000</td>\n",
       "    </tr>\n",
       "    <tr>\n",
       "      <th>mean</th>\n",
       "      <td>221.177778</td>\n",
       "      <td>118.977778</td>\n",
       "      <td>131.40000</td>\n",
       "      <td>1.600000</td>\n",
       "      <td>57.000000</td>\n",
       "      <td>1.777778</td>\n",
       "    </tr>\n",
       "    <tr>\n",
       "      <th>std</th>\n",
       "      <td>64.641068</td>\n",
       "      <td>9.406209</td>\n",
       "      <td>10.44988</td>\n",
       "      <td>1.286291</td>\n",
       "      <td>11.311699</td>\n",
       "      <td>1.593864</td>\n",
       "    </tr>\n",
       "    <tr>\n",
       "      <th>min</th>\n",
       "      <td>100.000000</td>\n",
       "      <td>107.000000</td>\n",
       "      <td>115.00000</td>\n",
       "      <td>0.000000</td>\n",
       "      <td>43.000000</td>\n",
       "      <td>0.000000</td>\n",
       "    </tr>\n",
       "    <tr>\n",
       "      <th>25%</th>\n",
       "      <td>194.000000</td>\n",
       "      <td>112.000000</td>\n",
       "      <td>123.00000</td>\n",
       "      <td>0.000000</td>\n",
       "      <td>47.000000</td>\n",
       "      <td>0.000000</td>\n",
       "    </tr>\n",
       "    <tr>\n",
       "      <th>50%</th>\n",
       "      <td>240.000000</td>\n",
       "      <td>119.000000</td>\n",
       "      <td>132.00000</td>\n",
       "      <td>1.000000</td>\n",
       "      <td>56.000000</td>\n",
       "      <td>2.000000</td>\n",
       "    </tr>\n",
       "    <tr>\n",
       "      <th>75%</th>\n",
       "      <td>260.000000</td>\n",
       "      <td>120.000000</td>\n",
       "      <td>140.00000</td>\n",
       "      <td>3.000000</td>\n",
       "      <td>58.000000</td>\n",
       "      <td>3.000000</td>\n",
       "    </tr>\n",
       "    <tr>\n",
       "      <th>max</th>\n",
       "      <td>290.000000</td>\n",
       "      <td>149.000000</td>\n",
       "      <td>145.00000</td>\n",
       "      <td>3.000000</td>\n",
       "      <td>75.000000</td>\n",
       "      <td>4.000000</td>\n",
       "    </tr>\n",
       "  </tbody>\n",
       "</table>\n",
       "</div>"
      ],
      "text/plain": [
       "       Cholesterol  Max heart rate  Resting blood pressure  Chest pain type  \\\n",
       "count    45.000000       45.000000                45.00000        45.000000   \n",
       "mean    221.177778      118.977778               131.40000         1.600000   \n",
       "std      64.641068        9.406209                10.44988         1.286291   \n",
       "min     100.000000      107.000000               115.00000         0.000000   \n",
       "25%     194.000000      112.000000               123.00000         0.000000   \n",
       "50%     240.000000      119.000000               132.00000         1.000000   \n",
       "75%     260.000000      120.000000               140.00000         3.000000   \n",
       "max     290.000000      149.000000               145.00000         3.000000   \n",
       "\n",
       "             Age      class  \n",
       "count  45.000000  45.000000  \n",
       "mean   57.000000   1.777778  \n",
       "std    11.311699   1.593864  \n",
       "min    43.000000   0.000000  \n",
       "25%    47.000000   0.000000  \n",
       "50%    56.000000   2.000000  \n",
       "75%    58.000000   3.000000  \n",
       "max    75.000000   4.000000  "
      ]
     },
     "execution_count": 21,
     "metadata": {},
     "output_type": "execute_result"
    }
   ],
   "source": [
    "df.describe(include=\"all\")\n",
    "# Descriptive statistics of DataFrame"
   ]
  },
  {
   "cell_type": "code",
   "execution_count": 22,
   "id": "a82b7c6f",
   "metadata": {},
   "outputs": [],
   "source": [
    "# The absolute easiest way to plot a scatter graph is...\n",
    "# plt.scatter(x,y)\n",
    "\n",
    "\n",
    "# The easiest way to plot a bar graph is...\n",
    "# plt.bar(x,y) # X is usually in the form of a string.\n",
    "\n",
    "\n",
    "# The easiest way to plot a line graph is...\n",
    "#plt.plot(x,y)"
   ]
  },
  {
   "cell_type": "code",
   "execution_count": 23,
   "id": "76c9f858",
   "metadata": {},
   "outputs": [
    {
     "data": {
      "text/plain": [
       "Text(0.5, 1.0, 'Class Vs. Frequency')"
      ]
     },
     "execution_count": 23,
     "metadata": {},
     "output_type": "execute_result"
    },
    {
     "data": {
      "image/png": "[encoded data removed]",
      "text/plain": [
       "<Figure size 432x288 with 1 Axes>"
      ]
     },
     "metadata": {
      "needs_background": "light"
     },
     "output_type": "display_data"
    }
   ],
   "source": [
    "plt.hist(df[\"class\"]) # Histogram\n",
    "# this plots a histogram based on frequency of values in \"class\"\n",
    "# it has 5 classes.\n",
    "\n",
    "\n",
    "# There are MANY different graphs you can plot like this.\n",
    "# another example will be in the cell below.\n",
    "\n",
    "\n",
    "#plt.plot(df[\"Age\"])\n",
    "# Will give you a line graph\n",
    "\n",
    "\n",
    "plt.xlabel(\"Class\")\n",
    "# This is labelling the X axis.\n",
    "\n",
    "\n",
    "plt.ylabel(\"Frequency\")\n",
    "# This is labelling the Y axis.\n",
    "\n",
    "\n",
    "plt.title(\"Class Vs. Frequency\")\n",
    "# This is giving it a title."
   ]
  },
  {
   "cell_type": "code",
   "execution_count": 24,
   "id": "b109ba9c",
   "metadata": {
    "scrolled": true
   },
   "outputs": [
    {
     "data": {
      "text/plain": [
       "<Axes: >"
      ]
     },
     "execution_count": 24,
     "metadata": {},
     "output_type": "execute_result"
    },
    {
     "data": {
      "image/png": "[encoded data removed]",
      "text/plain": [
       "<Figure size 432x288 with 1 Axes>"
      ]
     },
     "metadata": {
      "needs_background": "light"
     },
     "output_type": "display_data"
    }
   ],
   "source": [
    "df[\"Age\"].plot(kind=\"box\") # Box plot, different plotting method.\n",
    "# This is the preferred way to plot features. it is easier to \n",
    "# determine the type of graph.\n",
    "# kind=\"x\"    x = the type of graph you will plot.\n",
    "# in this instance it is a box plot.\n",
    "\n",
    "\n",
    "# https://pandas.pydata.org/docs/reference/api/pandas.DataFrame.plot.html\n",
    "# https://pandas.pydata.org/docs/user_guide/visualization.html?highlight=plotting\n",
    "\n",
    "# This is documentation you should read for more information. \n",
    "# I strongly encourage you look at code examples for industry standard."
   ]
  },
  {
   "cell_type": "code",
   "execution_count": 25,
   "id": "a1cfc35b",
   "metadata": {},
   "outputs": [
    {
     "data": {
      "text/plain": [
       "<Axes: >"
      ]
     },
     "execution_count": 25,
     "metadata": {},
     "output_type": "execute_result"
    },
    {
     "data": {
      "image/png": "[encoded data removed]",
      "text/plain": [
       "<Figure size 432x288 with 1 Axes>"
      ]
     },
     "metadata": {
      "needs_background": "light"
     },
     "output_type": "display_data"
    }
   ],
   "source": [
    "df.boxplot(column=[\"Cholesterol\", \"Resting blood pressure\"])\n",
    "# Just an example of what is possible with plotting.\n",
    "# you can plot multiple features on the same figure."
   ]
  },
  {
   "cell_type": "code",
   "execution_count": 26,
   "id": "bc255c17",
   "metadata": {
    "scrolled": false
   },
   "outputs": [
    {
     "data": {
      "text/plain": [
       "Text(0.5, 1.0, 'Cholesterol vs Age')"
      ]
     },
     "execution_count": 26,
     "metadata": {},
     "output_type": "execute_result"
    },
    {
     "data": {
      "image/png": "[encoded data removed]",
      "text/plain": [
       "<Figure size 432x288 with 1 Axes>"
      ]
     },
     "metadata": {
      "needs_background": "light"
     },
     "output_type": "display_data"
    }
   ],
   "source": [
    "plt.scatter(df[\"Cholesterol\"], df[\"Age\"])\n",
    "# df[\"Cholesterol\"] takes all values from feature Cholesterol\n",
    "# df[\"Age\"] does the same for age\n",
    "# plt.scatter(x, y) is the format.\n",
    "\n",
    "\n",
    "plt.xlabel(\"Cholesterol\")\n",
    "plt.ylabel(\"Age\")\n",
    "plt.title(\"Cholesterol vs Age\")\n",
    "# This is one way you can plot two features of a dataframe together."
   ]
  },
  {
   "cell_type": "code",
   "execution_count": 27,
   "id": "88554fe2",
   "metadata": {
    "scrolled": true
   },
   "outputs": [
    {
     "name": "stderr",
     "output_type": "stream",
     "text": [
      "C:\\Users\\Dawid\\AppData\\Roaming\\Python\\Python38\\site-packages\\pandas\\plotting\\_matplotlib\\core.py:1070: UserWarning: No data for colormapping provided via 'c'. Parameters 'cmap' will be ignored\n",
      "  scatter = ax.scatter(\n"
     ]
    },
    {
     "data": {
      "text/plain": [
       "<Axes: title={'center': 'Resting blood pressure vs Age'}, xlabel='Resting blood pressure', ylabel='Age'>"
      ]
     },
     "execution_count": 27,
     "metadata": {},
     "output_type": "execute_result"
    },
    {
     "data": {
      "image/png": "[encoded data removed]",
      "text/plain": [
       "<Figure size 432x288 with 1 Axes>"
      ]
     },
     "metadata": {
      "needs_background": "light"
     },
     "output_type": "display_data"
    }
   ],
   "source": [
    "df.plot(kind='scatter', x = \"Resting blood pressure\", y=\"Age\", title='Resting blood pressure vs Age')\n",
    "# This is another way you can plot graphs based on features in a DataFrame.\n",
    "# kind=\"\" x=\"\", y=\"\", title=\"\"\n",
    "# The x and y axis will already be labelled.\n",
    "# kind=\"\" can be any \"kind\" of graph."
   ]
  },
  {
   "cell_type": "code",
   "execution_count": 28,
   "id": "a65af0d0",
   "metadata": {
    "scrolled": false
   },
   "outputs": [
    {
     "data": {
      "text/plain": [
       "<matplotlib.collections.PathCollection at 0x23edb17ceb0>"
      ]
     },
     "execution_count": 28,
     "metadata": {},
     "output_type": "execute_result"
    },
    {
     "data": {
      "image/png": "[encoded data removed]",
      "text/plain": [
       "<Figure size 432x288 with 1 Axes>"
      ]
     },
     "metadata": {
      "needs_background": "light"
     },
     "output_type": "display_data"
    }
   ],
   "source": [
    "plt.scatter(df[\"Resting blood pressure\"], df[\"Age\"], alpha=0.4)\n",
    "# Alpha will be darker based on \"clusters\"\n",
    "# This is not the best way to see clusters."
   ]
  },
  {
   "cell_type": "markdown",
   "id": "f8de1a2e",
   "metadata": {},
   "source": [
    "###  Numpy.random.normal example."
   ]
  },
  {
   "cell_type": "code",
   "execution_count": 29,
   "id": "f846d97f",
   "metadata": {},
   "outputs": [
    {
     "data": {
      "image/png": "[encoded data removed]",
      "text/plain": [
       "<Figure size 432x288 with 1 Axes>"
      ]
     },
     "metadata": {
      "needs_background": "light"
     },
     "output_type": "display_data"
    }
   ],
   "source": [
    "data = np.random.normal(0, 10, 2500)\n",
    "# np.random.normal(loc=0.0, scale=1.0, size=None)\n",
    "# loc = mean/ centre of distribution\n",
    "# scale = standard deviation / spread or \"width\" of distribution.\n",
    "# size = amount of values generates in int or tuple of int form.\n",
    "\n",
    "\n",
    "# Plotting the histogram.\n",
    "plt.hist(data, bins=35, alpha=0.6, color='c')\n",
    "\n",
    "plt.show()"
   ]
  },
  {
   "cell_type": "markdown",
   "id": "6cf471df",
   "metadata": {},
   "source": [
    "#### Task 3: Create a bar graph and scatter graph from the data below."
   ]
  },
  {
   "cell_type": "code",
   "execution_count": 30,
   "id": "88857ae3",
   "metadata": {},
   "outputs": [],
   "source": [
    "# Data for bar graph---------\n",
    "x = [\"New York\", \"Nevada\"]\n",
    "y = [17,27]\n",
    "\n",
    "# Data for scatter graph----\n",
    "age = [10,15,20,25,30]\n",
    "heart_rate = [80,75,70,72,69]\n",
    "#---------------------------\n",
    "\n",
    "\n"
   ]
  },
  {
   "cell_type": "markdown",
   "id": "27d6f5b2",
   "metadata": {},
   "source": [
    "#### Task 4: Create a normal distribution with centre of 100, standard distribution of 10 and size of 1000."
   ]
  },
  {
   "cell_type": "code",
   "execution_count": null,
   "id": "305f66e6",
   "metadata": {},
   "outputs": [],
   "source": []
  },
  {
   "cell_type": "markdown",
   "id": "67f59821",
   "metadata": {},
   "source": [
    "# CORRELATION ANALYSIS - using Seaborn."
   ]
  },
  {
   "cell_type": "code",
   "execution_count": 31,
   "id": "a3b9f3ac",
   "metadata": {},
   "outputs": [],
   "source": [
    "import seaborn as sns\n",
    "# Imports"
   ]
  },
  {
   "cell_type": "code",
   "execution_count": 32,
   "id": "1d72eda8",
   "metadata": {},
   "outputs": [
    {
     "data": {
      "text/plain": [
       "<Axes: >"
      ]
     },
     "execution_count": 32,
     "metadata": {},
     "output_type": "execute_result"
    },
    {
     "data": {
      "image/png": "[encoded data removed]",
      "text/plain": [
       "<Figure size 864x720 with 2 Axes>"
      ]
     },
     "metadata": {
      "needs_background": "light"
     },
     "output_type": "display_data"
    }
   ],
   "source": [
    "corr = df.corr(method=\"spearman\") # initialising correlation.\n",
    "ax = plt.subplots(figsize=(12,10))\n",
    "sns.heatmap(data=corr,annot=True,mask=0,cmap='RdYlGn', linewidths=4.5)\n",
    "\n",
    "\n",
    "# This is an example from Seaborn documentation.\n",
    "# https://seaborn.pydata.org/generated/seaborn.heatmap.html"
   ]
  },
  {
   "cell_type": "markdown",
   "id": "342b9ebf",
   "metadata": {},
   "source": [
    "# Classification - Absolute basics"
   ]
  },
  {
   "cell_type": "markdown",
   "id": "758463e1",
   "metadata": {},
   "source": [
    "#### This dataset contains data based on people who have heart disease. We have 5 classes from 0-4. 0 refers to no heart disease present. 1-4 refers to a presence of heart disease and the severity of it increasing with each integer.\n"
   ]
  },
  {
   "cell_type": "code",
   "execution_count": 33,
   "id": "1b836d52",
   "metadata": {},
   "outputs": [],
   "source": [
    "import pandas as pd\n",
    "import numpy as np\n",
    "import matplotlib.pyplot as plt\n",
    "# Imports needed"
   ]
  },
  {
   "cell_type": "code",
   "execution_count": 34,
   "id": "fa1f7a64",
   "metadata": {},
   "outputs": [],
   "source": [
    "df = pd.read_csv('Documents/teachingml.csv')\n",
    "# Reads dataset from csv (in this case excel file saved in csv format) and stores as DataFrame."
   ]
  },
  {
   "cell_type": "code",
   "execution_count": 35,
   "id": "4bcfce73",
   "metadata": {},
   "outputs": [],
   "source": [
    "X, y = df.drop(columns=[\"class\"]), df[\"class\"]\n",
    "# Gets values ready for test_train split\n",
    "# X is the whole dataframe without \"class\" feature\n",
    "# y is only the \"class\" feature, showing the \"true\" class values\n",
    "# this is important for classifiers to compare the true class values\n",
    "# compared to the classifiers \"predictions\" of what the class will be\n",
    "# based on the dataset (learning from the data to try predict what class it will be)"
   ]
  },
  {
   "cell_type": "code",
   "execution_count": 36,
   "id": "4280ac2c",
   "metadata": {},
   "outputs": [
    {
     "name": "stdout",
     "output_type": "stream",
     "text": [
      "Accuracy: 0.8571428571428571\n"
     ]
    }
   ],
   "source": [
    "from sklearn.model_selection import train_test_split\n",
    "from sklearn.tree import DecisionTreeClassifier\n",
    "from sklearn.metrics import accuracy_score\n",
    "# these are the imports needed for this section.\n",
    "\n",
    "\n",
    "X_train, X_test, y_train, y_test = train_test_split(X, y, test_size=0.3) # 30% of dataset used for testing, 70% used for training.\n",
    "# this splits the data based on X, y                        ^ decides how large test data will be\n",
    "# test data is the data used to get accuracy of classifiers\n",
    "# train data is data used to train the models to predict.\n",
    "\n",
    "\n",
    "clf=DecisionTreeClassifier(random_state=42)\n",
    "# this is just picking a classifier and attributing it to a variable.\n",
    "# random state can be left as blank.\n",
    "\n",
    "\n",
    "clf.fit(X_train,y_train)\n",
    "# this is fitting the \"training data\", with the X being the dataset\n",
    "# and the y being the class values\n",
    "# basically just picking randomly rows to train data\n",
    "\n",
    "\n",
    "y_pred=clf.predict(X_test)\n",
    "#this is basically just the classifier (clf) using the test data to make a prediction\n",
    "# based on the training done on it by clf.fit\n",
    "# y_pred is the predicted classes for X_test\n",
    "# X_test is just test data, in this case 30% of the DataFrame.\n",
    "# test data and training data is picked at random.\n",
    "\n",
    "\n",
    "print(\"Accuracy:\", accuracy_score(y_test, y_pred))\n",
    "#prints accuracy"
   ]
  },
  {
   "cell_type": "code",
   "execution_count": 37,
   "id": "cfa11673",
   "metadata": {
    "scrolled": true
   },
   "outputs": [
    {
     "name": "stdout",
     "output_type": "stream",
     "text": [
      "Classification report:               precision    recall  f1-score   support\n",
      "\n",
      "           0       0.67      1.00      0.80         4\n",
      "           1       0.00      0.00      0.00         1\n",
      "           2       1.00      0.67      0.80         3\n",
      "           3       1.00      1.00      1.00         1\n",
      "           4       1.00      1.00      1.00         5\n",
      "\n",
      "    accuracy                           0.86        14\n",
      "   macro avg       0.73      0.73      0.72        14\n",
      "weighted avg       0.83      0.86      0.83        14\n",
      "\n"
     ]
    },
    {
     "name": "stderr",
     "output_type": "stream",
     "text": [
      "C:\\Users\\Dawid\\anaconda3\\lib\\site-packages\\sklearn\\metrics\\_classification.py:1245: UndefinedMetricWarning: Precision and F-score are ill-defined and being set to 0.0 in labels with no predicted samples. Use `zero_division` parameter to control this behavior.\n",
      "  _warn_prf(average, modifier, msg_start, len(result))\n",
      "C:\\Users\\Dawid\\anaconda3\\lib\\site-packages\\sklearn\\metrics\\_classification.py:1245: UndefinedMetricWarning: Precision and F-score are ill-defined and being set to 0.0 in labels with no predicted samples. Use `zero_division` parameter to control this behavior.\n",
      "  _warn_prf(average, modifier, msg_start, len(result))\n",
      "C:\\Users\\Dawid\\anaconda3\\lib\\site-packages\\sklearn\\metrics\\_classification.py:1245: UndefinedMetricWarning: Precision and F-score are ill-defined and being set to 0.0 in labels with no predicted samples. Use `zero_division` parameter to control this behavior.\n",
      "  _warn_prf(average, modifier, msg_start, len(result))\n"
     ]
    }
   ],
   "source": [
    "from sklearn.metrics import classification_report, confusion_matrix\n",
    "# imports for this section\n",
    "\n",
    "\n",
    "print(\"Classification report:\", classification_report(y_test,y_pred))\n",
    "# We can use many different ways to show performance of a classifier.\n",
    "# one way is using a classification report, this shows us other metrics\n",
    "# such as recall, precision and f1 score.\n",
    "\n",
    "\n",
    "# https://scikit-learn.org/stable/modules/generated/sklearn.metrics.classification_report.html\n",
    "# Documentation you can read for more information.\n",
    "# I encourage you to look at the examples."
   ]
  },
  {
   "cell_type": "code",
   "execution_count": 38,
   "id": "4788e76e",
   "metadata": {},
   "outputs": [
    {
     "name": "stdout",
     "output_type": "stream",
     "text": [
      "Confusion matrix:\n",
      "[[4 0 0 0 0]\n",
      " [1 0 0 0 0]\n",
      " [1 0 2 0 0]\n",
      " [0 0 0 1 0]\n",
      " [0 0 0 0 5]]\n"
     ]
    }
   ],
   "source": [
    "print(\"Confusion matrix:\")\n",
    "print(confusion_matrix(y_test,y_pred))\n",
    "#----EXPLANATION----------------------\n",
    "# The numbers running exactly diagonally from top right to bottom right\n",
    "# are \"True positives\".\n",
    "# This describes the number of instances that the classifier has correctly\n",
    "# classified.\n",
    "\n",
    "# The numbers vertical to the true positive values are the false positives.\n",
    "# This esentially means that:\n",
    "# the model predicted heart disease, but they don't actually have the disease.\n",
    "\n",
    "\n",
    "# The numvers horizontal to the true positive values are false negatives.\n",
    "# This esentially means that:\n",
    "# the model predicted a negative, and the actual was a positive."
   ]
  },
  {
   "cell_type": "markdown",
   "id": "fc3be617",
   "metadata": {},
   "source": [
    "### Task 5: Use RandomForestClassifier and print accuracy and a confusion matrix."
   ]
  },
  {
   "cell_type": "code",
   "execution_count": 39,
   "id": "187b1f6a",
   "metadata": {},
   "outputs": [],
   "source": [
    "# Remember to follow the steps above carefully.\n",
    "from sklearn.ensemble import RandomForestClassifier\n",
    "# I have imported the classifier for you, all you have to do now is implement it.\n",
    "\n",
    "\n",
    "\n",
    "\n",
    "\n",
    "\n",
    "\n",
    "# If you get stuck, check out official documentation and look at the example.\n",
    "# https://scikit-learn.org/stable/modules/generated/sklearn.ensemble.RandomForestClassifier.html?highlight=random%20forest#sklearn.ensemble.RandomForestClassifier"
   ]
  },
  {
   "cell_type": "markdown",
   "id": "aa6b21d2",
   "metadata": {},
   "source": [
    "## This section will go into comparing classifiers and apply knowledge from the sections above and new methods."
   ]
  },
  {
   "cell_type": "code",
   "execution_count": 40,
   "id": "b5766d45",
   "metadata": {},
   "outputs": [],
   "source": [
    "from sklearn.tree import DecisionTreeClassifier\n",
    "from sklearn.ensemble import RandomForestClassifier\n",
    "from sklearn.metrics import precision_score\n",
    "from sklearn.metrics import recall_score\n",
    "# The two classifiers we will use."
   ]
  },
  {
   "cell_type": "code",
   "execution_count": 41,
   "id": "062bf6ca",
   "metadata": {},
   "outputs": [],
   "source": [
    "# The code below consists of a brand new dataframe called \"pf\"\n",
    "# consisting of Classifier, accuracy, recall and precision.\n",
    "\n",
    "\n",
    "# The function will be used to import the accuracy of the classifier used\n",
    "# into this dataframe so we can compare them using ML methods.\n",
    "\n",
    "\n",
    "pf = pd.DataFrame(columns=['Classifier',\"Accuracy\",\"Recall\",\"Precision\"])\n",
    "# Creates a new DataFrame called pf\n",
    "\n",
    "\n",
    "def add_result(classifier,accuracy,recall,precision):\n",
    "    global pf # doing this to be able to access the global dataframe defined above the function\n",
    "    \n",
    "    new_row = {'Classifier':model,  \n",
    "               'Accuracy':accuracy, \n",
    "               'Recall':recall,\n",
    "               'Precision':precision\n",
    "               }\n",
    "    pf = pf.append(new_row, ignore_index=True)\n",
    "    \n",
    "    return pf"
   ]
  },
  {
   "cell_type": "code",
   "execution_count": 42,
   "id": "49bc330e",
   "metadata": {},
   "outputs": [
    {
     "name": "stdout",
     "output_type": "stream",
     "text": [
      "              precision    recall  f1-score   support\n",
      "\n",
      "           0       0.30      0.75      0.43         4\n",
      "           1       1.00      1.00      1.00         1\n",
      "           2       0.00      0.00      0.00         7\n",
      "           4       1.00      1.00      1.00         2\n",
      "\n",
      "    accuracy                           0.43        14\n",
      "   macro avg       0.57      0.69      0.61        14\n",
      "weighted avg       0.30      0.43      0.34        14\n",
      "\n",
      "[[3 0 1 0]\n",
      " [0 1 0 0]\n",
      " [7 0 0 0]\n",
      " [0 0 0 2]]\n"
     ]
    },
    {
     "data": {
      "text/html": [
       "<div>\n",
       "<style scoped>\n",
       "    .dataframe tbody tr th:only-of-type {\n",
       "        vertical-align: middle;\n",
       "    }\n",
       "\n",
       "    .dataframe tbody tr th {\n",
       "        vertical-align: top;\n",
       "    }\n",
       "\n",
       "    .dataframe thead th {\n",
       "        text-align: right;\n",
       "    }\n",
       "</style>\n",
       "<table border=\"1\" class=\"dataframe\">\n",
       "  <thead>\n",
       "    <tr style=\"text-align: right;\">\n",
       "      <th></th>\n",
       "      <th>Classifier</th>\n",
       "      <th>Accuracy</th>\n",
       "      <th>Recall</th>\n",
       "      <th>Precision</th>\n",
       "    </tr>\n",
       "  </thead>\n",
       "  <tbody>\n",
       "    <tr>\n",
       "      <th>0</th>\n",
       "      <td>Decision Tree</td>\n",
       "      <td>0.428571</td>\n",
       "      <td>0.6875</td>\n",
       "      <td>0.575</td>\n",
       "    </tr>\n",
       "  </tbody>\n",
       "</table>\n",
       "</div>"
      ],
      "text/plain": [
       "      Classifier  Accuracy  Recall  Precision\n",
       "0  Decision Tree  0.428571  0.6875      0.575"
      ]
     },
     "execution_count": 42,
     "metadata": {},
     "output_type": "execute_result"
    }
   ],
   "source": [
    "X, y = df.drop(columns=[\"class\"]), df[\"class\"]\n",
    "# Get X, y ready for train, test split.\n",
    "\n",
    "\n",
    "X_train, X_test, y_train, y_test = train_test_split(X, y, test_size=0.3)\n",
    "# We split the data into the train and test splits.\n",
    "\n",
    "\n",
    "clf=DecisionTreeClassifier()\n",
    "# Define the classifier you will use.\n",
    "\n",
    "\n",
    "clf.fit(X_train,y_train)\n",
    "# Fit the train data to the classifier.\n",
    "\n",
    "\n",
    "y_pred=clf.predict(X_test)\n",
    "# The data predicted by the classifier.\n",
    "\n",
    "\n",
    "print(classification_report(y_test, y_pred))\n",
    "print(confusion_matrix(y_test, y_pred))\n",
    "# This prints the metrics and confusion matrix.\n",
    "# can comment out if annoying.\n",
    "\n",
    "\n",
    "accuracy = accuracy_score(y_test, y_pred)\n",
    "recall = recall_score(y_test, y_pred, average='macro')\n",
    "precision = precision_score(y_test, y_pred, average='macro')\n",
    "# This ^ gets all the metrics.\n",
    "\n",
    "\n",
    "model = \"Decision Tree\"\n",
    "add_result(model,accuracy,recall,precision)\n",
    "# This ^ adds to pf (DataFrame) with the function above."
   ]
  },
  {
   "cell_type": "code",
   "execution_count": 43,
   "id": "23b70e1a",
   "metadata": {},
   "outputs": [
    {
     "name": "stdout",
     "output_type": "stream",
     "text": [
      "              precision    recall  f1-score   support\n",
      "\n",
      "           0       1.00      1.00      1.00         6\n",
      "           1       0.50      1.00      0.67         1\n",
      "           2       1.00      0.75      0.86         4\n",
      "           3       1.00      1.00      1.00         1\n",
      "           4       1.00      1.00      1.00         2\n",
      "\n",
      "    accuracy                           0.93        14\n",
      "   macro avg       0.90      0.95      0.90        14\n",
      "weighted avg       0.96      0.93      0.94        14\n",
      "\n",
      "[[6 0 0 0 0]\n",
      " [0 1 0 0 0]\n",
      " [0 1 3 0 0]\n",
      " [0 0 0 1 0]\n",
      " [0 0 0 0 2]]\n"
     ]
    },
    {
     "data": {
      "text/html": [
       "<div>\n",
       "<style scoped>\n",
       "    .dataframe tbody tr th:only-of-type {\n",
       "        vertical-align: middle;\n",
       "    }\n",
       "\n",
       "    .dataframe tbody tr th {\n",
       "        vertical-align: top;\n",
       "    }\n",
       "\n",
       "    .dataframe thead th {\n",
       "        text-align: right;\n",
       "    }\n",
       "</style>\n",
       "<table border=\"1\" class=\"dataframe\">\n",
       "  <thead>\n",
       "    <tr style=\"text-align: right;\">\n",
       "      <th></th>\n",
       "      <th>Classifier</th>\n",
       "      <th>Accuracy</th>\n",
       "      <th>Recall</th>\n",
       "      <th>Precision</th>\n",
       "    </tr>\n",
       "  </thead>\n",
       "  <tbody>\n",
       "    <tr>\n",
       "      <th>0</th>\n",
       "      <td>Decision Tree</td>\n",
       "      <td>0.428571</td>\n",
       "      <td>0.6875</td>\n",
       "      <td>0.575</td>\n",
       "    </tr>\n",
       "    <tr>\n",
       "      <th>1</th>\n",
       "      <td>Random Forest</td>\n",
       "      <td>0.928571</td>\n",
       "      <td>0.9500</td>\n",
       "      <td>0.900</td>\n",
       "    </tr>\n",
       "  </tbody>\n",
       "</table>\n",
       "</div>"
      ],
      "text/plain": [
       "      Classifier  Accuracy  Recall  Precision\n",
       "0  Decision Tree  0.428571  0.6875      0.575\n",
       "1  Random Forest  0.928571  0.9500      0.900"
      ]
     },
     "execution_count": 43,
     "metadata": {},
     "output_type": "execute_result"
    }
   ],
   "source": [
    "X, y = df.drop(columns=[\"class\"]), df[\"class\"]\n",
    "# Get X, y ready for train, test split.\n",
    "\n",
    "X_train, X_test, y_train, y_test = train_test_split(X, y, test_size=0.3)\n",
    "# We split the data into the train and test splits.\n",
    "\n",
    "clf=RandomForestClassifier()\n",
    "# Define the classifier you will use.\n",
    "\n",
    "clf.fit(X_train,y_train)\n",
    "# Fit the train data to the classifier.\n",
    "\n",
    "y_pred=clf.predict(X_test)\n",
    "# The data predicted by the classifier.\n",
    "\n",
    "print(classification_report(y_test, y_pred))\n",
    "print(confusion_matrix(y_test, y_pred))\n",
    "# This prints the metrics and confusion matrix.\n",
    "\n",
    "accuracy = accuracy_score(y_test, y_pred)\n",
    "recall = recall_score(y_test, y_pred, average='macro')\n",
    "precision = precision_score(y_test, y_pred, average='macro')\n",
    "# This ^ gets all the metrics.\n",
    "\n",
    "model = \"Random Forest\"\n",
    "add_result(model,accuracy,recall,precision)\n",
    "# This ^ adds to pf (DataFrame) with the function above."
   ]
  },
  {
   "cell_type": "code",
   "execution_count": 44,
   "id": "a1a0757c",
   "metadata": {
    "scrolled": true
   },
   "outputs": [
    {
     "data": {
      "image/png": "[encoded data removed]",
      "text/plain": [
       "<Figure size 432x288 with 1 Axes>"
      ]
     },
     "metadata": {
      "needs_background": "light"
     },
     "output_type": "display_data"
    }
   ],
   "source": [
    "ax = pf.plot.bar(x='Classifier', rot=0)\n",
    "# This creates a bar graph comparing the metrics of each classifier."
   ]
  },
  {
   "cell_type": "markdown",
   "id": "22f7caa6",
   "metadata": {},
   "source": [
    "#  K-Means"
   ]
  },
  {
   "cell_type": "code",
   "execution_count": 45,
   "id": "1edbaee2",
   "metadata": {},
   "outputs": [],
   "source": [
    "import pandas as pd\n",
    "import numpy as np\n",
    "from sklearn.cluster import KMeans\n",
    "from sklearn.cluster import DBSCAN\n",
    "# Imports needed"
   ]
  },
  {
   "cell_type": "code",
   "execution_count": 46,
   "id": "02df4bc1",
   "metadata": {},
   "outputs": [],
   "source": [
    "data = {\"x\": df[\"Cholesterol\"], \"y\":df[\"Age\"]}\n",
    "# load x and y axis into a python dictionary.\n",
    "\n",
    "\n",
    "dfKM = pd.DataFrame(data)\n",
    "# create a dataframe from dictionary"
   ]
  },
  {
   "cell_type": "code",
   "execution_count": 47,
   "id": "8e192960",
   "metadata": {
    "scrolled": true
   },
   "outputs": [
    {
     "name": "stdout",
     "output_type": "stream",
     "text": [
      "[[100.          43.        ]\n",
      " [277.05882353  68.35294118]\n",
      " [222.15        52.95      ]]\n"
     ]
    }
   ],
   "source": [
    "centroids = []\n",
    "# define centroids array - empty for now.\n",
    "\n",
    "\n",
    "kmeans = KMeans(n_clusters=3).fit(dfKM)\n",
    "# fit the DataFrame to kmeans so that it can calculate centroids\n",
    "\n",
    "\n",
    "for x in range(100):\n",
    "    kmeans = KMeans(n_clusters=3).fit(dfKM)\n",
    "    centroids = kmeans.cluster_centers_\n",
    "# runs fitting the centroids 100 times to find the best fit.\n",
    "\n",
    "\n",
    "print(centroids)\n",
    "# print the centroids."
   ]
  },
  {
   "cell_type": "code",
   "execution_count": 48,
   "id": "d2e54802",
   "metadata": {
    "scrolled": true
   },
   "outputs": [
    {
     "data": {
      "image/png": "[encoded data removed]",
      "text/plain": [
       "<Figure size 432x288 with 1 Axes>"
      ]
     },
     "metadata": {
      "needs_background": "light"
     },
     "output_type": "display_data"
    }
   ],
   "source": [
    "plt.scatter(dfKM['x'], dfKM['y'], c= kmeans.labels_.astype(float), s=50, alpha=0.5)\n",
    "plt.scatter(centroids[:, 0], centroids[:, 1], c='red', s=50)\n",
    "plt.show()\n",
    "# Visualise the graph.\n",
    "\n",
    "\n",
    "# PLEASE REMEMBER, Every time you are stuck on your own, documentation\n",
    "# is the only way you can help yourself.\n",
    "# nobody knows how to code without looking at documentation. It is the way to learn.\n",
    "\n",
    "\n",
    "# https://datatofish.com/k-means-clustering-python/\n",
    "# documentation used to help ^."
   ]
  },
  {
   "cell_type": "markdown",
   "id": "e8fe7a89",
   "metadata": {},
   "source": [
    "# DBSCAN"
   ]
  },
  {
   "cell_type": "code",
   "execution_count": 49,
   "id": "1e19bfad",
   "metadata": {},
   "outputs": [
    {
     "name": "stdout",
     "output_type": "stream",
     "text": [
      "(45, 2)\n"
     ]
    }
   ],
   "source": [
    "x = df.loc[:, ['Resting blood pressure','Cholesterol']].values\n",
    "# Creating the data that will be used for DBSCAN\n",
    "print(x.shape)"
   ]
  },
  {
   "cell_type": "code",
   "execution_count": 50,
   "id": "5c065862",
   "metadata": {},
   "outputs": [],
   "source": [
    "from sklearn.neighbors import NearestNeighbors # importing the library\n",
    "neighb = NearestNeighbors(n_neighbors=2) # creating an object of the NearestNeighbors class\n",
    "nbrs=neighb.fit(x) # fitting the data to the object\n",
    "distances,indices=nbrs.kneighbors(x) # finding the nearest neighbours"
   ]
  },
  {
   "cell_type": "code",
   "execution_count": 51,
   "id": "bc72de81",
   "metadata": {},
   "outputs": [],
   "source": [
    "# Sort and plot the distances results\n",
    "distances = np.sort(distances, axis = 0) # sorting the distances\n",
    "distances = distances[:, 1] # taking the second column of the sorted distances"
   ]
  },
  {
   "cell_type": "code",
   "execution_count": 52,
   "id": "8178443c",
   "metadata": {},
   "outputs": [],
   "source": [
    "# cluster the data into five clusters\n",
    "dbscan = DBSCAN(eps = 2, min_samples = 4).fit(x) # fitting the model\n",
    "labels = dbscan.labels_ # getting the labels\n"
   ]
  },
  {
   "cell_type": "code",
   "execution_count": 53,
   "id": "5e9b11fa",
   "metadata": {},
   "outputs": [
    {
     "data": {
      "image/png": "[encoded data removed]",
      "text/plain": [
       "<Figure size 432x288 with 1 Axes>"
      ]
     },
     "metadata": {
      "needs_background": "light"
     },
     "output_type": "display_data"
    }
   ],
   "source": [
    "# Plot the clusters\n",
    "plt.scatter(x[:, 0], x[:,1], c = labels) # plotting the clusters\n",
    "plt.xlabel(\"Resting blood pressure\") # X-axis label\n",
    "plt.ylabel(\"Cholesterol\") # Y-axis label\n",
    "plt.show() # showing the plot\n",
    "\n",
    "\n",
    "# Documentation:\n",
    "# https://www.section.io/engineering-education/dbscan-clustering-in-python/"
   ]
  },
  {
   "cell_type": "markdown",
   "id": "5c0bd61c",
   "metadata": {},
   "source": [
    "# Reclursive feature elimination with cross-validation"
   ]
  },
  {
   "cell_type": "code",
   "execution_count": 54,
   "id": "dc2e133a",
   "metadata": {},
   "outputs": [],
   "source": [
    "from sklearn.feature_selection import RFECV\n",
    "from sklearn.svm import SVR\n",
    "# Imports\n",
    "\n",
    "\n",
    "X, y = df.drop(columns=[\"class\"]), df[\"class\"]\n",
    "\n",
    "estimator = SVR(kernel=\"linear\")\n",
    "selector = RFECV(estimator, step=1, cv=5)\n",
    "selector = selector.fit(X, y) # Fitting \n",
    "\n",
    "features=[]\n",
    "rank = []\n",
    "\n",
    "for x in X:\n",
    "    features.append(x)\n",
    "features.pop()    \n",
    "# .pop because had clusters from DBSCAN\n",
    "\n",
    "for x in selector.ranking_:\n",
    "    rank.append(x)\n",
    "rank.pop()\n",
    "# .pop because had clusters from DBSCAN\n",
    "    \n",
    "finished = [[x,y] for x,y in zip(rank, features)]\n",
    "# List comprehension to get array [rank, features] "
   ]
  },
  {
   "cell_type": "code",
   "execution_count": 55,
   "id": "a38c99a1",
   "metadata": {
    "scrolled": true
   },
   "outputs": [],
   "source": [
    "finished.sort()\n",
    "# Sort the list by integer "
   ]
  },
  {
   "cell_type": "code",
   "execution_count": 56,
   "id": "8f0fb8a9",
   "metadata": {
    "scrolled": true
   },
   "outputs": [
    {
     "data": {
      "text/plain": [
       "[[1, 'Chest pain type'],\n",
       " [1, 'Resting blood pressure'],\n",
       " [2, 'Max heart rate'],\n",
       " [3, 'Cholesterol']]"
      ]
     },
     "execution_count": 56,
     "metadata": {},
     "output_type": "execute_result"
    }
   ],
   "source": [
    "finished\n",
    "# we can see which feature is the most \"important\"\n",
    "\n",
    "# Documentation:\n",
    "# https://scikit-learn.org/stable/modules/generated/sklearn.feature_selection.RFECV.html?highlight=rfecv"
   ]
  },
  {
   "cell_type": "markdown",
   "id": "d24895c5",
   "metadata": {},
   "source": [
    "### Task 6: Create a DataFrame which shows the results given above."
   ]
  },
  {
   "cell_type": "code",
   "execution_count": null,
   "id": "b4f511d5",
   "metadata": {},
   "outputs": [],
   "source": []
  },
  {
   "cell_type": "markdown",
   "id": "e411a40d",
   "metadata": {},
   "source": [
    "# Linear Regression."
   ]
  },
  {
   "cell_type": "markdown",
   "id": "84558f35",
   "metadata": {},
   "source": [
    "### Fits a linear model with coefficients to minimal residual sum of squares between observed targets in the dataset and targets predicted by linear approximation.                                                          This makes Linear Regression a useful tool for data processing and missing value imputation"
   ]
  },
  {
   "cell_type": "code",
   "execution_count": 57,
   "id": "58b91f35",
   "metadata": {},
   "outputs": [],
   "source": [
    "# Source for description above:\n",
    "# https://scikit-learn.org/stable/modules/generated/sklearn.linear_model.LinearRegression.html?highlight=linear%20regression#sklearn.linear_model.LinearRegression"
   ]
  },
  {
   "cell_type": "code",
   "execution_count": 58,
   "id": "5ad204ea",
   "metadata": {},
   "outputs": [],
   "source": [
    "from sklearn import linear_model\n",
    "from sklearn.metrics import mean_squared_error, r2_score\n",
    "from sklearn import linear_model\n",
    "from sklearn.linear_model import LinearRegression\n",
    "# Imports"
   ]
  },
  {
   "cell_type": "code",
   "execution_count": 59,
   "id": "559ad1bd",
   "metadata": {},
   "outputs": [
    {
     "data": {
      "image/png": "[encoded data removed]",
      "text/plain": [
       "<Figure size 432x288 with 1 Axes>"
      ]
     },
     "metadata": {
      "needs_background": "light"
     },
     "output_type": "display_data"
    }
   ],
   "source": [
    "y = np.array(df['Age'])\n",
    "X = np.array(df['class'])\n",
    "# Create X, y into numpy array so we can reshape the data\n",
    "\n",
    "X=X.reshape(len(X),1)\n",
    "y=y.reshape(len(y),1)\n",
    "# Reshaped the data to run vertically.\n",
    "\n",
    "\n",
    "X_train, X_test, y_train, y_test = train_test_split(X, y, test_size=0.3)\n",
    "# Split the data into test and training data.\n",
    "\n",
    "\n",
    "# Plot outputs\n",
    "plt.scatter(X_test, y_test)\n",
    "plt.title('Test Data')\n",
    "plt.xlabel('class')\n",
    "plt.ylabel('age')\n",
    "\n",
    "\n",
    "regr = linear_model.LinearRegression()\n",
    "# Create linear regression object\n",
    "\n",
    "regr.fit(X_train, y_train)\n",
    "# Train the model using the training sets\n",
    "\n",
    "y_pred = regr.predict(X_test)\n",
    "# Predict the values\n",
    "\n",
    "# Plot outputs\n",
    "plt.plot(X_test, y_pred,color=\"red\",linewidth=1.5)\n",
    "\n",
    "plt.show()\n",
    "\n",
    "\n",
    "# Documentation:\n",
    "# https://pythonspot.com/linear-regression/"
   ]
  },
  {
   "cell_type": "code",
   "execution_count": 60,
   "id": "3b2f5769",
   "metadata": {},
   "outputs": [],
   "source": [
    "# Ultimately the only way you will learn is to \n",
    "# try to do these things yourself through repetition\n",
    "# and by googling anything that you are struggling with.\n",
    "# I tried to keep this VERY basic on purpose."
   ]
  },
  {
   "cell_type": "code",
   "execution_count": null,
   "id": "f33f9689",
   "metadata": {},
   "outputs": [],
   "source": []
  },
  {
   "cell_type": "code",
   "execution_count": null,
   "id": "e5032f3d",
   "metadata": {},
   "outputs": [],
   "source": []
  },
  {
   "cell_type": "code",
   "execution_count": null,
   "id": "304190dc",
   "metadata": {},
   "outputs": [],
   "source": []
  }
 ],
 "metadata": {
  "kernelspec": {
   "display_name": "Python 3",
   "language": "python",
   "name": "python3"
  },
  "language_info": {
   "codemirror_mode": {
    "name": "ipython",
    "version": 3
   },
   "file_extension": ".py",
   "mimetype": "text/x-python",
   "name": "python",
   "nbconvert_exporter": "python",
   "pygments_lexer": "ipython3",
   "version": "3.8.8"
  }
 },
 "nbformat": 4,
 "nbformat_minor": 5
}
